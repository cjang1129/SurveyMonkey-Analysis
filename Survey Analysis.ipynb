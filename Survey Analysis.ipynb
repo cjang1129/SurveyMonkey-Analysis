{
 "cells": [
  {
   "cell_type": "code",
   "execution_count": null,
   "metadata": {},
   "outputs": [],
   "source": [
    "import pandas as pd\n",
    "import numpy as np\n",
    "import seaborn as sns\n",
    "import matplotlib.pyplot as plt\n",
    "plt.style.use('bmh')\n",
    "\n",
    "import plotly.offline as py\n",
    "py.init_notebook_mode(connected=True)\n",
    "import plotly.graph_objs as go\n",
    "import plotly.tools as tls"
   ]
  },
  {
   "cell_type": "code",
   "execution_count": null,
   "metadata": {},
   "outputs": [],
   "source": [
    "df_survey = pd.read_csv(\"\", header=[0,1])\n",
    "codebook = df_survey.columns.to_frame(index=0, name=['question', 'options'])"
   ]
  },
  {
   "cell_type": "code",
   "execution_count": null,
   "metadata": {},
   "outputs": [],
   "source": [
    "df_survey.head()"
   ]
  },
  {
   "cell_type": "code",
   "execution_count": null,
   "metadata": {},
   "outputs": [],
   "source": [
    "df_survey.shape"
   ]
  },
  {
   "cell_type": "code",
   "execution_count": null,
   "metadata": {},
   "outputs": [],
   "source": [
    "df_survey = pd.read_csv(\"\", header=None, prefix='Q').iloc[2:]\n",
    "df_survey.head()"
   ]
  },
  {
   "cell_type": "code",
   "execution_count": null,
   "metadata": {},
   "outputs": [],
   "source": [
    "df_survey['Q20'].dropna()"
   ]
  },
  {
   "cell_type": "code",
   "execution_count": null,
   "metadata": {},
   "outputs": [],
   "source": [
    "df_survey['Q20'] = df_survey['Q20'].astype(str)\n",
    "df_survey = df_survey[~df_survey['Q20'].isin(['nan'])]"
   ]
  },
  {
   "cell_type": "code",
   "execution_count": null,
   "metadata": {},
   "outputs": [],
   "source": [
    "#pie chart \n",
    "temp_series = df_survey['Q20'].value_counts()\n",
    "labels = (np.array(temp_series.index))\n",
    "sizes = (np.array((temp_series / temp_series.sum())*100))\n",
    "\n",
    "trace = go.Pie(labels=labels, values=sizes)\n",
    "layout = go.Layout(\n",
    "    title='Employment Status Distribution'\n",
    ")\n",
    "data = [trace]\n",
    "fig = go.Figure(data=data, layout=layout)\n",
    "py.iplot(fig, filename=\"employmentstatus\")"
   ]
  },
  {
   "cell_type": "code",
   "execution_count": null,
   "metadata": {},
   "outputs": [],
   "source": [
    "temp_series = df_survey['Q9'].value_counts()\n",
    "labels = (np.array(temp_series.index))\n",
    "sizes = (np.array((temp_series / temp_series.sum())*100))\n",
    "\n",
    "trace = go.Pie(labels=labels, values=sizes)\n",
    "layout = go.Layout(\n",
    "    title='Management Type Distribution'\n",
    ")\n",
    "data = [trace]\n",
    "fig = go.Figure(data=data, layout=layout)\n",
    "py.iplot(fig, filename=\"management\")"
   ]
  },
  {
   "cell_type": "code",
   "execution_count": null,
   "metadata": {},
   "outputs": [],
   "source": [
    "# scatter plot\n",
    "cnt_srs = df_survey['Q15'].value_counts()\n",
    "\n",
    "trace = go.Scatter(\n",
    "    x=cnt_srs.index,\n",
    "    y=cnt_srs.values,\n",
    "    mode='markers',\n",
    "    marker=dict(\n",
    "        sizemode = 'diameter',\n",
    "        sizeref = 1,\n",
    "        size = 50,\n",
    "        #color = np.random.randn(500), #set color equal to a variable\n",
    "        color = cnt_srs.values,\n",
    "        colorscale='Portland',\n",
    "        showscale=True\n",
    "    ),\n",
    ")\n",
    "\n",
    "layout = go.Layout(\n",
    "    title='Tenure Distribution'\n",
    ")\n",
    "\n",
    "data = [trace]\n",
    "fig = go.Figure(data=data, layout=layout)\n",
    "py.iplot(fig, filename=\"tenure\")"
   ]
  },
  {
   "cell_type": "code",
   "execution_count": null,
   "metadata": {},
   "outputs": [],
   "source": [
    "# bar chart\n",
    "net_promoter_map = {\"1\":1, \"2\":2, \"3\":3, \"4\":4, \"5\":5, \"6\":6, \"7\":7, \"8\":8, \"9\":9, \"10\":10}\n",
    "df_survey[\"Q32_new\"] = df_survey[\"Q32\"].map(net_promoter_map)\n",
    "cnt_srs = df_survey[\"Q32_new\"].value_counts()\n",
    "\n",
    "trace = go.Bar(\n",
    "    x=cnt_srs.index,\n",
    "    y=cnt_srs.values,\n",
    "    marker=dict(\n",
    "        color=cnt_srs.values,\n",
    "        colorscale = 'Rainbow',\n",
    "        reversescale = True\n",
    "    ),\n",
    ")\n",
    "\n",
    "layout = go.Layout(\n",
    "    title='How likely is it that you would recommend Maximus to a friend or colleague?'\n",
    ")\n",
    "\n",
    "data = [trace]\n",
    "fig = go.Figure(data=data, layout=layout)\n",
    "py.iplot(fig, filename=\"PromoterScore\")"
   ]
  },
  {
   "cell_type": "code",
   "execution_count": null,
   "metadata": {},
   "outputs": [],
   "source": [
    "# Generate a chart to visualize single-answer questions\n",
    "def gen_chart_radiobutton(data, question_name, index, group_column_name):\n",
    "    print(\"Number of answers in each group: \")\n",
    "    print(data[[question_name, group_column_name]].groupby(group_column_name).count())\n",
    "    i_counts = (\n",
    "        data.groupby([group_column_name])[question_name]\n",
    "        .value_counts(normalize=True)\n",
    "        .rename(\"percentage(%)\")\n",
    "        .mul(100)\n",
    "        .reset_index()\n",
    "        .round(2)\n",
    "    )\n",
    "\n",
    "    listOfGroup = list(data.loc[:,group_column_name].unique())\n",
    "    listOfGroup.sort()\n",
    "\n",
    "    fig, ax = plt.subplots(figsize=(10, 8))\n",
    "\n",
    "    fig = sns.barplot(\n",
    "        x=\"percentage(%)\",\n",
    "        y=question_name,\n",
    "        order=index,\n",
    "        hue=group_column_name,\n",
    "        hue_order=listOfGroup,\n",
    "        data=i_counts,\n",
    "    )\n",
    "\n",
    "    plt.title(None)\n",
    "    plt.legend(bbox_to_anchor=(1.05, 1), loc=2, borderaxespad=0.0, title=\"group\")\n",
    "    ax.set(xlim=(0, 100))\n",
    "    ax.set_ylabel(\"\")\n",
    "    return plt.show()"
   ]
  },
  {
   "cell_type": "code",
   "execution_count": null,
   "metadata": {},
   "outputs": [],
   "source": [
    "index = [\"Strongly disagree\",\n",
    "        \"Disagree\",\n",
    "        \"Neither agree nor disagree\",\n",
    "        \"Agree\",\n",
    "        \"Strongly agree\"]"
   ]
  },
  {
   "cell_type": "code",
   "execution_count": null,
   "metadata": {},
   "outputs": [],
   "source": [
    "gen_chart_radiobutton(df_survey, \"Q16\", index, 'Q13')"
   ]
  },
  {
   "cell_type": "code",
   "execution_count": null,
   "metadata": {},
   "outputs": [],
   "source": [
    "def gen_table(data, group_name, col_range, group_column_name='Q13'):\n",
    "    data_sub = data[data[group_column_name] == group_name].iloc[:, col_range].dropna(how=\"all\")\n",
    "    for var in data_sub.columns:\n",
    "        data_sub[var] = data_sub[var].map(\n",
    "            {\n",
    "                \"Strongly agree\": 5,\n",
    "                \"Agree\": 4,\n",
    "                \"Undecided\": 3,\n",
    "                \"Disagree\": 2,\n",
    "                \"Strongly disagree\": 1,\n",
    "            }\n",
    "        )\n",
    "    table = data_sub.describe().loc[[\"mean\", \"std\", \"count\"]].T\n",
    "\n",
    "    index = []\n",
    "\n",
    "    for var in table.index:\n",
    "        i = int(var[1:])\n",
    "        index.append(codebook.iloc[i, 1])\n",
    "\n",
    "    table[\"item\"] = index\n",
    "\n",
    "    # table[\"item_n\"] = range(len(index),0,-1)\n",
    "    table[\"item_n\"] = range(0, len(index))\n",
    "    return table\n",
    "\n",
    "# Generate a chart to compare the importance of missing features across two groups\n",
    "def compare_importance(data, groups, col_range, group_column_name='Q13'):\n",
    "\n",
    "    group_name_to_describe_data = {}\n",
    "\n",
    "    #Create a dictionary to save the summary data for each group\n",
    "    for i, group_name in enumerate(groups):\n",
    "        group_name_to_describe_data[group_name] = \"data_describe_%s\" % i\n",
    "\n",
    "    for group_name in groups:\n",
    "        table = gen_table(data, group_name, col_range, group_column_name)\n",
    "        group_name_to_describe_data[group_name] = table\n",
    "\n",
    "    #Get the item list and index\n",
    "    items = table.item.tolist()\n",
    "    item_n = table.item_n.tolist()\n",
    "    \n",
    "    # Visualize the mean value with the 95% confidence interval\n",
    "    # Change the figsize if you have more yticks\n",
    "    plt.figure(num=None, figsize=(10, 8), dpi=90, facecolor=\"w\", edgecolor=\"k\")\n",
    "    ax = plt.axes()\n",
    "\n",
    "    for i, group_name in enumerate(groups):\n",
    "        plt.errorbar(\n",
    "            group_name_to_describe_data[group_name][\"mean\"].astype(float),\n",
    "            group_name_to_describe_data[group_name][\"item_n\"] - 0.1 * i,\n",
    "            xerr=1.96\n",
    "            * (\n",
    "                group_name_to_describe_data[group_name][\"std\"].astype(float)\n",
    "                / (group_name_to_describe_data[group_name][\"count\"] ** 0.5)\n",
    "            ),\n",
    "            fmt=\"o\",\n",
    "            elinewidth=1,\n",
    "            capsize=4,\n",
    "            marker=\"o\",\n",
    "            ms=4,\n",
    "            label=group_name,\n",
    "        )\n",
    "\n",
    "    ax.set_xlim(1, 5)\n",
    "    \n",
    "    ax.set_yticks(item_n)\n",
    "    ax.set_yticklabels(labels=items, fontdict={'fontsize':8})\n",
    "\n",
    "    plt.legend(bbox_to_anchor=(1.05, 1), loc=2, borderaxespad=0.0, title=\"group\")\n",
    "    plt.title(\"Compare the mean values across groups (scale 1-5)\", fontsize=15)\n",
    "\n",
    "    return plt.show()"
   ]
  },
  {
   "cell_type": "code",
   "execution_count": null,
   "metadata": {},
   "outputs": [],
   "source": [
    "compare_importance(df_survey, ['x', \n",
    "                               'y', \n",
    "                               'z', ], range(#,#))"
   ]
  },
  {
   "cell_type": "code",
   "execution_count": null,
   "metadata": {},
   "outputs": [],
   "source": [
    "# bucket rating score\n",
    "\n",
    "def net_promoter_score(rating):\n",
    "    rating = int(rating)\n",
    "\n",
    "    if rating < 7:\n",
    "        bucket = 'Detractor'\n",
    "    \n",
    "    if rating in range(7, 9):\n",
    "        bucket = 'Passive'\n",
    "      \n",
    "    if rating in range(9, 11):\n",
    "        bucket = 'Promoter'\n",
    "   \n",
    "    return bucket"
   ]
  },
  {
   "cell_type": "code",
   "execution_count": null,
   "metadata": {},
   "outputs": [],
   "source": [
    "df_survey = df_survey[df_survey['Q32'].notna()]\n",
    "df_survey['Q32'].head()"
   ]
  },
  {
   "cell_type": "code",
   "execution_count": null,
   "metadata": {},
   "outputs": [],
   "source": [
    "df_survey['NPS'] = df_survey['Q32'].apply(net_promoter_score)\n",
    "df_survey['NPS'].head(3)"
   ]
  },
  {
   "cell_type": "code",
   "execution_count": null,
   "metadata": {},
   "outputs": [],
   "source": [
    "# Generate a chart to visualize single-answer questions\n",
    "def gen_chart_radiobutton(data, question_name, category, group_column_name):\n",
    "    print(\"Number of answers in each group: \")\n",
    "    print(data[[question_name, group_column_name]].groupby(group_column_name).count())\n",
    "    i_counts = (\n",
    "        data.groupby([group_column_name])[question_name]\n",
    "        .value_counts(normalize=True)\n",
    "        .rename(\"percentage(%)\")\n",
    "        .mul(100)\n",
    "        .reset_index()\n",
    "        .round(2)\n",
    "    )\n",
    "\n",
    "    listOfGroup = list(data.loc[:,group_column_name].unique())\n",
    "    listOfGroup.sort()\n",
    "\n",
    "    fig, ax = plt.subplots(figsize=(10, 8))\n",
    "\n",
    "    fig = sns.barplot(\n",
    "        x=\"percentage(%)\",\n",
    "        y=question_name,\n",
    "        order=category,\n",
    "        hue=group_column_name,\n",
    "        hue_order=listOfGroup,\n",
    "        data=i_counts,\n",
    "    )\n",
    "\n",
    "    plt.title(None)\n",
    "    plt.legend(bbox_to_anchor=(1.05, 1), loc=2, borderaxespad=0.0, title=\"group\")\n",
    "    ax.set(xlim=(0, 100))\n",
    "    ax.set_ylabel(\"\")\n",
    "    return plt.show()"
   ]
  },
  {
   "cell_type": "code",
   "execution_count": null,
   "metadata": {},
   "outputs": [],
   "source": [
    "category = [\"Detractor\",\n",
    "        \"Passive\",\n",
    "        \"Promoter\"]"
   ]
  },
  {
   "cell_type": "code",
   "execution_count": null,
   "metadata": {},
   "outputs": [],
   "source": [
    "gen_chart_radiobutton(df_survey, \"NPS\", category, \"Q20\")"
   ]
  }
 ],
 "metadata": {
  "kernelspec": {
   "display_name": "Python 3",
   "language": "python",
   "name": "python3"
  },
  "language_info": {
   "codemirror_mode": {
    "name": "ipython",
    "version": 3
   },
   "file_extension": ".py",
   "mimetype": "text/x-python",
   "name": "python",
   "nbconvert_exporter": "python",
   "pygments_lexer": "ipython3",
   "version": "3.7.6"
  }
 },
 "nbformat": 4,
 "nbformat_minor": 4
}
